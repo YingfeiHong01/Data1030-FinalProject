{
 "cells": [
  {
   "cell_type": "code",
   "execution_count": 2,
   "id": "eb312eda",
   "metadata": {},
   "outputs": [],
   "source": [
    "import pandas as pd"
   ]
  },
  {
   "cell_type": "markdown",
   "id": "b06b212a",
   "metadata": {},
   "source": [
    "**1. What problem are you trying to solve?**"
   ]
  },
  {
   "cell_type": "markdown",
   "id": "7f46972d",
   "metadata": {},
   "source": [
    "The task is to predict the probability that each customer in the test set is an unsatisfied customer.\n",
    "I choose this data because I am interested in data science application in finance and this task is posted by a bank in Kaggle.\n",
    "And the trick thing about this data is that it is desensitized due to privacy issues so it is hard to interpret at first glance but I think data desensitization become gradually normal in reality and it does no harm to learn from now about how to deal with this kind of data."
   ]
  },
  {
   "cell_type": "markdown",
   "id": "cb24a600",
   "metadata": {},
   "source": [
    "**2. Where does the data come from?**"
   ]
  },
  {
   "cell_type": "markdown",
   "id": "10e3baa4",
   "metadata": {},
   "source": [
    "The data come from kaggle and was provided by Santander bank and the link is https://www.kaggle.com/c/santander-customer-satisfaction/data"
   ]
  },
  {
   "cell_type": "markdown",
   "id": "88dfb113",
   "metadata": {},
   "source": [
    "**3. Size of the data? Is it i.i,d.?**"
   ]
  },
  {
   "cell_type": "code",
   "execution_count": 15,
   "id": "241910fc",
   "metadata": {},
   "outputs": [],
   "source": [
    "data = pd.read_csv(\"santander-customer-satisfaction/train.csv\")"
   ]
  },
  {
   "cell_type": "code",
   "execution_count": 3,
   "id": "58d349af",
   "metadata": {},
   "outputs": [],
   "source": [
    "test = pd.read_csv(\"santander-customer-satisfaction/test.csv\")"
   ]
  },
  {
   "cell_type": "code",
   "execution_count": 16,
   "id": "36bf4bf1",
   "metadata": {},
   "outputs": [
    {
     "data": {
      "text/plain": [
       "(76020, 371)"
      ]
     },
     "execution_count": 16,
     "metadata": {},
     "output_type": "execute_result"
    }
   ],
   "source": [
    "data.shape"
   ]
  },
  {
   "cell_type": "code",
   "execution_count": 4,
   "id": "f6ac2313",
   "metadata": {},
   "outputs": [
    {
     "data": {
      "text/plain": [
       "(75818, 370)"
      ]
     },
     "execution_count": 4,
     "metadata": {},
     "output_type": "execute_result"
    }
   ],
   "source": [
    "test.shape"
   ]
  },
  {
   "cell_type": "markdown",
   "id": "6eb5a2ef",
   "metadata": {},
   "source": [
    "The data has 371 columns and 76020 rows.By looking into data description given by Andreu and Pano (link:https://www.kaggle.com/c/santander-customer-satisfaction/discussion/19291), I think that the data is not iid because some of the features are time series data that seem to span across different periods."
   ]
  },
  {
   "cell_type": "markdown",
   "id": "9bc1b174",
   "metadata": {},
   "source": [
    "**4. What are the columns? Type?**"
   ]
  },
  {
   "cell_type": "code",
   "execution_count": 17,
   "id": "27cc3da0",
   "metadata": {},
   "outputs": [
    {
     "name": "stdout",
     "output_type": "stream",
     "text": [
      "ID                                 int64\n",
      "var3                               int64\n",
      "var15                              int64\n",
      "imp_ent_var16_ult1               float64\n",
      "imp_op_var39_comer_ult1          float64\n",
      "imp_op_var39_comer_ult3          float64\n",
      "imp_op_var40_comer_ult1          float64\n",
      "imp_op_var40_comer_ult3          float64\n",
      "imp_op_var40_efect_ult1          float64\n",
      "imp_op_var40_efect_ult3          float64\n",
      "imp_op_var40_ult1                float64\n",
      "imp_op_var41_comer_ult1          float64\n",
      "imp_op_var41_comer_ult3          float64\n",
      "imp_op_var41_efect_ult1          float64\n",
      "imp_op_var41_efect_ult3          float64\n",
      "imp_op_var41_ult1                float64\n",
      "imp_op_var39_efect_ult1          float64\n",
      "imp_op_var39_efect_ult3          float64\n",
      "imp_op_var39_ult1                float64\n",
      "imp_sal_var16_ult1               float64\n",
      "ind_var1_0                         int64\n",
      "ind_var1                           int64\n",
      "ind_var2_0                         int64\n",
      "ind_var2                           int64\n",
      "ind_var5_0                         int64\n",
      "ind_var5                           int64\n",
      "ind_var6_0                         int64\n",
      "ind_var6                           int64\n",
      "ind_var8_0                         int64\n",
      "ind_var8                           int64\n",
      "ind_var12_0                        int64\n",
      "ind_var12                          int64\n",
      "ind_var13_0                        int64\n",
      "ind_var13_corto_0                  int64\n",
      "ind_var13_corto                    int64\n",
      "ind_var13_largo_0                  int64\n",
      "ind_var13_largo                    int64\n",
      "ind_var13_medio_0                  int64\n",
      "ind_var13_medio                    int64\n",
      "ind_var13                          int64\n",
      "ind_var14_0                        int64\n",
      "ind_var14                          int64\n",
      "ind_var17_0                        int64\n",
      "ind_var17                          int64\n",
      "ind_var18_0                        int64\n",
      "ind_var18                          int64\n",
      "ind_var19                          int64\n",
      "ind_var20_0                        int64\n",
      "ind_var20                          int64\n",
      "ind_var24_0                        int64\n",
      "ind_var24                          int64\n",
      "ind_var25_cte                      int64\n",
      "ind_var26_0                        int64\n",
      "ind_var26_cte                      int64\n",
      "ind_var26                          int64\n",
      "ind_var25_0                        int64\n",
      "ind_var25                          int64\n",
      "ind_var27_0                        int64\n",
      "ind_var28_0                        int64\n",
      "ind_var28                          int64\n",
      "ind_var27                          int64\n",
      "ind_var29_0                        int64\n",
      "ind_var29                          int64\n",
      "ind_var30_0                        int64\n",
      "ind_var30                          int64\n",
      "ind_var31_0                        int64\n",
      "ind_var31                          int64\n",
      "ind_var32_cte                      int64\n",
      "ind_var32_0                        int64\n",
      "ind_var32                          int64\n",
      "ind_var33_0                        int64\n",
      "ind_var33                          int64\n",
      "ind_var34_0                        int64\n",
      "ind_var34                          int64\n",
      "ind_var37_cte                      int64\n",
      "ind_var37_0                        int64\n",
      "ind_var37                          int64\n",
      "ind_var39_0                        int64\n",
      "ind_var40_0                        int64\n",
      "ind_var40                          int64\n",
      "ind_var41_0                        int64\n",
      "ind_var41                          int64\n",
      "ind_var39                          int64\n",
      "ind_var44_0                        int64\n",
      "ind_var44                          int64\n",
      "ind_var46_0                        int64\n",
      "ind_var46                          int64\n",
      "num_var1_0                         int64\n",
      "num_var1                           int64\n",
      "num_var4                           int64\n",
      "num_var5_0                         int64\n",
      "num_var5                           int64\n",
      "num_var6_0                         int64\n",
      "num_var6                           int64\n",
      "num_var8_0                         int64\n",
      "num_var8                           int64\n",
      "num_var12_0                        int64\n",
      "num_var12                          int64\n",
      "num_var13_0                        int64\n",
      "num_var13_corto_0                  int64\n",
      "num_var13_corto                    int64\n",
      "num_var13_largo_0                  int64\n",
      "num_var13_largo                    int64\n",
      "num_var13_medio_0                  int64\n",
      "num_var13_medio                    int64\n",
      "num_var13                          int64\n",
      "num_var14_0                        int64\n",
      "num_var14                          int64\n",
      "num_var17_0                        int64\n",
      "num_var17                          int64\n",
      "num_var18_0                        int64\n",
      "num_var18                          int64\n",
      "num_var20_0                        int64\n",
      "num_var20                          int64\n",
      "num_var24_0                        int64\n",
      "num_var24                          int64\n",
      "num_var26_0                        int64\n",
      "num_var26                          int64\n",
      "num_var25_0                        int64\n",
      "num_var25                          int64\n",
      "num_op_var40_hace2                 int64\n",
      "num_op_var40_hace3                 int64\n",
      "num_op_var40_ult1                  int64\n",
      "num_op_var40_ult3                  int64\n",
      "num_op_var41_hace2                 int64\n",
      "num_op_var41_hace3                 int64\n",
      "num_op_var41_ult1                  int64\n",
      "num_op_var41_ult3                  int64\n",
      "num_op_var39_hace2                 int64\n",
      "num_op_var39_hace3                 int64\n",
      "num_op_var39_ult1                  int64\n",
      "num_op_var39_ult3                  int64\n",
      "num_var27_0                        int64\n",
      "num_var28_0                        int64\n",
      "num_var28                          int64\n",
      "num_var27                          int64\n",
      "num_var29_0                        int64\n",
      "num_var29                          int64\n",
      "num_var30_0                        int64\n",
      "num_var30                          int64\n",
      "num_var31_0                        int64\n",
      "num_var31                          int64\n",
      "num_var32_0                        int64\n",
      "num_var32                          int64\n",
      "num_var33_0                        int64\n",
      "num_var33                          int64\n",
      "num_var34_0                        int64\n",
      "num_var34                          int64\n",
      "num_var35                          int64\n",
      "num_var37_med_ult2                 int64\n",
      "num_var37_0                        int64\n",
      "num_var37                          int64\n",
      "num_var39_0                        int64\n",
      "num_var40_0                        int64\n",
      "num_var40                          int64\n",
      "num_var41_0                        int64\n",
      "num_var41                          int64\n",
      "num_var39                          int64\n",
      "num_var42_0                        int64\n",
      "num_var42                          int64\n",
      "num_var44_0                        int64\n",
      "num_var44                          int64\n",
      "num_var46_0                        int64\n",
      "num_var46                          int64\n",
      "saldo_var1                       float64\n",
      "saldo_var5                       float64\n",
      "saldo_var6                       float64\n",
      "saldo_var8                       float64\n",
      "saldo_var12                      float64\n",
      "saldo_var13_corto                float64\n",
      "saldo_var13_largo                float64\n",
      "saldo_var13_medio                  int64\n",
      "saldo_var13                      float64\n",
      "saldo_var14                      float64\n",
      "saldo_var17                      float64\n",
      "saldo_var18                        int64\n",
      "saldo_var20                      float64\n",
      "saldo_var24                      float64\n",
      "saldo_var26                      float64\n",
      "saldo_var25                      float64\n",
      "saldo_var28                        int64\n",
      "saldo_var27                        int64\n",
      "saldo_var29                      float64\n",
      "saldo_var30                      float64\n",
      "saldo_var31                      float64\n",
      "saldo_var32                      float64\n",
      "saldo_var33                      float64\n",
      "saldo_var34                        int64\n",
      "saldo_var37                      float64\n",
      "saldo_var40                      float64\n",
      "saldo_var41                        int64\n",
      "saldo_var42                      float64\n",
      "saldo_var44                      float64\n",
      "saldo_var46                        int64\n",
      "var36                              int64\n",
      "delta_imp_amort_var18_1y3          int64\n",
      "delta_imp_amort_var34_1y3          int64\n",
      "delta_imp_aport_var13_1y3        float64\n",
      "delta_imp_aport_var17_1y3        float64\n",
      "delta_imp_aport_var33_1y3        float64\n",
      "delta_imp_compra_var44_1y3       float64\n",
      "delta_imp_reemb_var13_1y3          int64\n",
      "delta_imp_reemb_var17_1y3          int64\n",
      "delta_imp_reemb_var33_1y3          int64\n",
      "delta_imp_trasp_var17_in_1y3       int64\n",
      "delta_imp_trasp_var17_out_1y3      int64\n",
      "delta_imp_trasp_var33_in_1y3       int64\n",
      "delta_imp_trasp_var33_out_1y3      int64\n",
      "delta_imp_venta_var44_1y3        float64\n",
      "delta_num_aport_var13_1y3        float64\n",
      "delta_num_aport_var17_1y3        float64\n",
      "delta_num_aport_var33_1y3        float64\n",
      "delta_num_compra_var44_1y3       float64\n",
      "delta_num_reemb_var13_1y3          int64\n",
      "delta_num_reemb_var17_1y3          int64\n",
      "delta_num_reemb_var33_1y3          int64\n",
      "delta_num_trasp_var17_in_1y3       int64\n",
      "delta_num_trasp_var17_out_1y3      int64\n",
      "delta_num_trasp_var33_in_1y3       int64\n",
      "delta_num_trasp_var33_out_1y3      int64\n",
      "delta_num_venta_var44_1y3        float64\n",
      "imp_amort_var18_hace3              int64\n",
      "imp_amort_var18_ult1             float64\n",
      "imp_amort_var34_hace3              int64\n",
      "imp_amort_var34_ult1             float64\n",
      "imp_aport_var13_hace3            float64\n",
      "imp_aport_var13_ult1             float64\n",
      "imp_aport_var17_hace3            float64\n",
      "imp_aport_var17_ult1             float64\n",
      "imp_aport_var33_hace3              int64\n",
      "imp_aport_var33_ult1               int64\n",
      "imp_var7_emit_ult1               float64\n",
      "imp_var7_recib_ult1              float64\n",
      "imp_compra_var44_hace3           float64\n",
      "imp_compra_var44_ult1            float64\n",
      "imp_reemb_var13_hace3              int64\n",
      "imp_reemb_var13_ult1             float64\n",
      "imp_reemb_var17_hace3            float64\n",
      "imp_reemb_var17_ult1             float64\n",
      "imp_reemb_var33_hace3              int64\n",
      "imp_reemb_var33_ult1               int64\n",
      "imp_var43_emit_ult1              float64\n",
      "imp_trans_var37_ult1             float64\n",
      "imp_trasp_var17_in_hace3         float64\n",
      "imp_trasp_var17_in_ult1          float64\n",
      "imp_trasp_var17_out_hace3          int64\n",
      "imp_trasp_var17_out_ult1         float64\n",
      "imp_trasp_var33_in_hace3         float64\n",
      "imp_trasp_var33_in_ult1          float64\n",
      "imp_trasp_var33_out_hace3          int64\n",
      "imp_trasp_var33_out_ult1           int64\n",
      "imp_venta_var44_hace3            float64\n",
      "imp_venta_var44_ult1             float64\n",
      "ind_var7_emit_ult1                 int64\n",
      "ind_var7_recib_ult1                int64\n",
      "ind_var10_ult1                     int64\n",
      "ind_var10cte_ult1                  int64\n",
      "ind_var9_cte_ult1                  int64\n",
      "ind_var9_ult1                      int64\n",
      "ind_var43_emit_ult1                int64\n",
      "ind_var43_recib_ult1               int64\n",
      "var21                              int64\n",
      "num_var2_0_ult1                    int64\n",
      "num_var2_ult1                      int64\n",
      "num_aport_var13_hace3              int64\n",
      "num_aport_var13_ult1               int64\n",
      "num_aport_var17_hace3              int64\n",
      "num_aport_var17_ult1               int64\n",
      "num_aport_var33_hace3              int64\n",
      "num_aport_var33_ult1               int64\n",
      "num_var7_emit_ult1                 int64\n",
      "num_var7_recib_ult1                int64\n",
      "num_compra_var44_hace3             int64\n",
      "num_compra_var44_ult1              int64\n",
      "num_ent_var16_ult1                 int64\n",
      "num_var22_hace2                    int64\n",
      "num_var22_hace3                    int64\n",
      "num_var22_ult1                     int64\n",
      "num_var22_ult3                     int64\n",
      "num_med_var22_ult3                 int64\n",
      "num_med_var45_ult3                 int64\n",
      "num_meses_var5_ult3                int64\n",
      "num_meses_var8_ult3                int64\n",
      "num_meses_var12_ult3               int64\n",
      "num_meses_var13_corto_ult3         int64\n",
      "num_meses_var13_largo_ult3         int64\n",
      "num_meses_var13_medio_ult3         int64\n",
      "num_meses_var17_ult3               int64\n",
      "num_meses_var29_ult3               int64\n",
      "num_meses_var33_ult3               int64\n",
      "num_meses_var39_vig_ult3           int64\n",
      "num_meses_var44_ult3               int64\n",
      "num_op_var39_comer_ult1            int64\n",
      "num_op_var39_comer_ult3            int64\n",
      "num_op_var40_comer_ult1            int64\n",
      "num_op_var40_comer_ult3            int64\n",
      "num_op_var40_efect_ult1            int64\n",
      "num_op_var40_efect_ult3            int64\n",
      "num_op_var41_comer_ult1            int64\n",
      "num_op_var41_comer_ult3            int64\n",
      "num_op_var41_efect_ult1            int64\n",
      "num_op_var41_efect_ult3            int64\n",
      "num_op_var39_efect_ult1            int64\n",
      "num_op_var39_efect_ult3            int64\n",
      "num_reemb_var13_hace3              int64\n",
      "num_reemb_var13_ult1               int64\n",
      "num_reemb_var17_hace3              int64\n",
      "num_reemb_var17_ult1               int64\n",
      "num_reemb_var33_hace3              int64\n",
      "num_reemb_var33_ult1               int64\n",
      "num_sal_var16_ult1                 int64\n",
      "num_var43_emit_ult1                int64\n",
      "num_var43_recib_ult1               int64\n",
      "num_trasp_var11_ult1               int64\n",
      "num_trasp_var17_in_hace3           int64\n",
      "num_trasp_var17_in_ult1            int64\n",
      "num_trasp_var17_out_hace3          int64\n",
      "num_trasp_var17_out_ult1           int64\n",
      "num_trasp_var33_in_hace3           int64\n",
      "num_trasp_var33_in_ult1            int64\n",
      "num_trasp_var33_out_hace3          int64\n",
      "num_trasp_var33_out_ult1           int64\n",
      "num_venta_var44_hace3              int64\n",
      "num_venta_var44_ult1               int64\n",
      "num_var45_hace2                    int64\n",
      "num_var45_hace3                    int64\n",
      "num_var45_ult1                     int64\n",
      "num_var45_ult3                     int64\n",
      "saldo_var2_ult1                    int64\n",
      "saldo_medio_var5_hace2           float64\n",
      "saldo_medio_var5_hace3           float64\n",
      "saldo_medio_var5_ult1            float64\n",
      "saldo_medio_var5_ult3            float64\n",
      "saldo_medio_var8_hace2           float64\n",
      "saldo_medio_var8_hace3           float64\n",
      "saldo_medio_var8_ult1            float64\n",
      "saldo_medio_var8_ult3            float64\n",
      "saldo_medio_var12_hace2          float64\n",
      "saldo_medio_var12_hace3          float64\n",
      "saldo_medio_var12_ult1           float64\n",
      "saldo_medio_var12_ult3           float64\n",
      "saldo_medio_var13_corto_hace2    float64\n",
      "saldo_medio_var13_corto_hace3    float64\n",
      "saldo_medio_var13_corto_ult1     float64\n",
      "saldo_medio_var13_corto_ult3     float64\n",
      "saldo_medio_var13_largo_hace2    float64\n",
      "saldo_medio_var13_largo_hace3    float64\n",
      "saldo_medio_var13_largo_ult1     float64\n",
      "saldo_medio_var13_largo_ult3     float64\n",
      "saldo_medio_var13_medio_hace2    float64\n",
      "saldo_medio_var13_medio_hace3      int64\n",
      "saldo_medio_var13_medio_ult1       int64\n",
      "saldo_medio_var13_medio_ult3     float64\n",
      "saldo_medio_var17_hace2          float64\n",
      "saldo_medio_var17_hace3          float64\n",
      "saldo_medio_var17_ult1           float64\n",
      "saldo_medio_var17_ult3           float64\n",
      "saldo_medio_var29_hace2          float64\n",
      "saldo_medio_var29_hace3          float64\n",
      "saldo_medio_var29_ult1           float64\n",
      "saldo_medio_var29_ult3           float64\n",
      "saldo_medio_var33_hace2          float64\n",
      "saldo_medio_var33_hace3          float64\n",
      "saldo_medio_var33_ult1           float64\n",
      "saldo_medio_var33_ult3           float64\n",
      "saldo_medio_var44_hace2          float64\n",
      "saldo_medio_var44_hace3          float64\n",
      "saldo_medio_var44_ult1           float64\n",
      "saldo_medio_var44_ult3           float64\n",
      "var38                            float64\n",
      "TARGET                             int64\n"
     ]
    }
   ],
   "source": [
    "print(data.dtypes.to_string())"
   ]
  },
  {
   "cell_type": "code",
   "execution_count": 22,
   "id": "8fcb4cfc",
   "metadata": {},
   "outputs": [
    {
     "name": "stdout",
     "output_type": "stream",
     "text": [
      "<class 'pandas.core.frame.DataFrame'>\n",
      "RangeIndex: 76020 entries, 0 to 76019\n",
      "Columns: 371 entries, ID to TARGET\n",
      "dtypes: float64(111), int64(260)\n",
      "memory usage: 215.2 MB\n"
     ]
    }
   ],
   "source": [
    "data.info()"
   ]
  },
  {
   "cell_type": "markdown",
   "id": "93172aff",
   "metadata": {},
   "source": [
    "**5. What is the target variable? Type?**"
   ]
  },
  {
   "cell_type": "markdown",
   "id": "b2660ad4",
   "metadata": {},
   "source": [
    "The \"TARGET\" column is the variable to predict. IT is a categorical though its datatype is int64. It equals 1 for unsatisfied customers and 0 for satisfied customers.\n",
    "And I think it's better to change its type from int64 into int8 to reduce my memory usage."
   ]
  },
  {
   "cell_type": "code",
   "execution_count": 21,
   "id": "858b40c2",
   "metadata": {},
   "outputs": [
    {
     "data": {
      "text/plain": [
       "<AxesSubplot:ylabel='Frequency'>"
      ]
     },
     "execution_count": 21,
     "metadata": {},
     "output_type": "execute_result"
    },
    {
     "data": {
      "image/png": "[encoded data removed]",
      "text/plain": [
       "<Figure size 432x288 with 1 Axes>"
      ]
     },
     "metadata": {
      "needs_background": "light"
     },
     "output_type": "display_data"
    }
   ],
   "source": [
    "data['TARGET'].plot.hist()"
   ]
  },
  {
   "cell_type": "markdown",
   "id": "0561350b",
   "metadata": {},
   "source": [
    "From the plot we can see that y is highly imbalanced, so we need use stratify strategy when splitting the data."
   ]
  },
  {
   "cell_type": "markdown",
   "id": "208dc257",
   "metadata": {},
   "source": [
    "**6. What methods will be introduced? (Recommend classification or regression, etc...)**"
   ]
  },
  {
   "cell_type": "markdown",
   "id": "103b31b3",
   "metadata": {},
   "source": [
    "It is a typical classification problem, so classification methods will be more suitable. I may start with logistic regression first."
   ]
  },
  {
   "cell_type": "markdown",
   "id": "7a0afbbc",
   "metadata": {},
   "source": [
    "The midterm report will describe which dataset you chose, what's the regression or classification problem you'll solve, it will contain your EDA results, and how you prepare the data for ML."
   ]
  }
 ],
 "metadata": {
  "@webio": {
   "lastCommId": null,
   "lastKernelId": null
  },
  "kernelspec": {
   "display_name": "Python [conda env:python39]",
   "language": "python",
   "name": "conda-env-python39-py"
  },
  "language_info": {
   "codemirror_mode": {
    "name": "ipython",
    "version": 3
   },
   "file_extension": ".py",
   "mimetype": "text/x-python",
   "name": "python",
   "nbconvert_exporter": "python",
   "pygments_lexer": "ipython3",
   "version": "3.9.7"
  }
 },
 "nbformat": 4,
 "nbformat_minor": 5
}
